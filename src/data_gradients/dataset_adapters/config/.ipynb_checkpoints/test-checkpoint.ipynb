{
 "cells": [
  {
   "cell_type": "code",
   "execution_count": null,
   "metadata": {
    "pycharm": {
     "is_executing": true,
     "name": "#%%\n"
    }
   },
   "outputs": [],
   "source": [
    "from data_gradients.dataset_adapters.config.userinput import OpenEndedQuestion, OptionQuestion"
   ]
  },
  {
   "cell_type": "code",
   "execution_count": null,
   "metadata": {
    "pycharm": {
     "name": "#%%\n"
    }
   },
   "outputs": [],
   "source": [
    "def validate_email(response: str) -> bool:\n",
    "    import re\n",
    "    email_regex = r\"[^@]+@[^@]+\\.[^@]+\"\n",
    "    return bool(re.match(email_regex, response))\n",
    "\n",
    "question_obj = OpenEndedQuestion(question=\"What's your email?\", validation=validate_email)\n",
    "\n",
    "response = question_obj.ask(hint=\"Please provide a valid email address.\")"
   ]
  },
  {
   "cell_type": "code",
   "execution_count": null,
   "metadata": {
    "pycharm": {
     "name": "#%%\n"
    }
   },
   "outputs": [],
   "source": [
    "options_dict = {\n",
    "    \"Python\": \"A popular programming language.\",\n",
    "    \"Java\": \"An object-oriented programming language.\",\n",
    "    \"Rust\": \"A language focused on performance and safety.\"\n",
    "}\n",
    "question_obj = OptionQuestion(question=\"Which language do you prefer?\", options=options_dict)\n",
    "\n",
    "\n",
    "selected_option = question_obj.ask(\"Choose a programming language from the options below.\")"
   ]
  },
  {
   "cell_type": "code",
   "execution_count": null,
   "metadata": {},
   "outputs": [],
   "source": []
  }
 ],
 "metadata": {
  "kernelspec": {
   "display_name": "Python 3 (ipykernel)",
   "language": "python",
   "name": "python3"
  },
  "language_info": {
   "codemirror_mode": {
    "name": "ipython",
    "version": 3
   },
   "file_extension": ".py",
   "mimetype": "text/x-python",
   "name": "python",
   "nbconvert_exporter": "python",
   "pygments_lexer": "ipython3",
   "version": "3.8.17"
  }
 },
 "nbformat": 4,
 "nbformat_minor": 1
}
