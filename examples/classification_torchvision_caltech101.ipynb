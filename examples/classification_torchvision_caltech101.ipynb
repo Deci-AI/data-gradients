{
 "cells": [
  {
   "cell_type": "code",
   "execution_count": 1,
   "metadata": {
    "collapsed": true,
    "pycharm": {
     "name": "#%%\n"
    },
    "ExecuteTime": {
     "end_time": "2023-07-10T12:26:59.724326500Z",
     "start_time": "2023-07-10T12:26:58.131380900Z"
    }
   },
   "outputs": [],
   "source": [
    "import data_gradients\n",
    "import torchvision"
   ]
  },
  {
   "cell_type": "code",
   "execution_count": 17,
   "outputs": [],
   "source": [
    "from torchvision.datasets.caltech import Caltech101\n",
    "from torchvision.transforms import Compose, ToTensor\n"
   ],
   "metadata": {
    "collapsed": false,
    "ExecuteTime": {
     "end_time": "2023-07-10T12:40:37.503781200Z",
     "start_time": "2023-07-10T12:40:37.471581500Z"
    }
   }
  },
  {
   "cell_type": "code",
   "execution_count": 18,
   "outputs": [
    {
     "name": "stdout",
     "output_type": "stream",
     "text": [
      "Files already downloaded and verified\n"
     ]
    },
    {
     "data": {
      "text/plain": "8677"
     },
     "execution_count": 18,
     "metadata": {},
     "output_type": "execute_result"
    }
   ],
   "source": [
    "class ToRGB:\n",
    "    def __call__(self, pic):\n",
    "        return pic.convert('RGB')\n",
    "\n",
    "train = Caltech101(root='./data',  download=True, transform=Compose([ToRGB(), ToTensor()]))\n",
    "\n",
    "len(train)\n"
   ],
   "metadata": {
    "collapsed": false,
    "ExecuteTime": {
     "end_time": "2023-07-10T12:40:38.086494900Z",
     "start_time": "2023-07-10T12:40:38.037483900Z"
    }
   }
  },
  {
   "cell_type": "code",
   "execution_count": 19,
   "outputs": [
    {
     "name": "stderr",
     "output_type": "stream",
     "text": [
      "INFO:data_gradients.utils.summary_writer:`log_dir` was not set, so the logs will be saved in D:\\Develop\\GitHub\\Deci\\data-gradients\\examples\\logs\\Caltech101\n",
      "INFO:data_gradients.config.data.data_config:Cache deactivated for `ClassificationDataConfig`. Please set `load_cache=True` if you want to activate it.\n"
     ]
    }
   ],
   "source": [
    "from torch.utils.data import DataLoader\n",
    "from data_gradients.managers.classification_manager import ClassificationAnalysisManager\n",
    "\n",
    "manager = ClassificationAnalysisManager(\n",
    "    train_data=DataLoader(train),\n",
    "    report_title='Caltech101',\n",
    "    class_names=train.categories,\n",
    "    batches_early_stop=None,\n",
    "    n_image_channels=3,\n",
    ")\n"
   ],
   "metadata": {
    "collapsed": false,
    "ExecuteTime": {
     "end_time": "2023-07-10T12:40:38.644479700Z",
     "start_time": "2023-07-10T12:40:38.524468700Z"
    }
   }
  },
  {
   "cell_type": "code",
   "execution_count": null,
   "outputs": [
    {
     "name": "stdout",
     "output_type": "stream",
     "text": [
      "  - Executing analysis with: \n",
      "  - batches_early_stop: None \n",
      "  - len(train_data): 8677 \n",
      "  - len(val_data): None \n",
      "  - log directory: D:\\Develop\\GitHub\\Deci\\data-gradients\\examples\\logs\\Caltech101 \n",
      "  - Archive directory: D:\\Develop\\GitHub\\Deci\\data-gradients\\examples\\logs\\Caltech101\\archive_20230710-154038 \n",
      "  - feature extractor list: {'Image Features': [ClassificationSummaryStats, ImagesResolution, ImageColorDistribution, ImagesAverageBrightness], 'Classification Features': [ClassificationClassDistribution]}\n"
     ]
    },
    {
     "name": "stderr",
     "output_type": "stream",
     "text": [
      "Analyzing... : 8677it [01:01, 141.39it/s]\n",
      "Summarizing... : 100%|██████████| 2/2 [00:02<00:00,  1.20s/it]\n"
     ]
    },
    {
     "name": "stdout",
     "output_type": "stream",
     "text": [
      "Dataset successfully analyzed!\n",
      "Starting to write the report, this may take around 10 seconds...\n"
     ]
    }
   ],
   "source": [
    "manager.run()\n"
   ],
   "metadata": {
    "collapsed": false,
    "is_executing": true,
    "ExecuteTime": {
     "start_time": "2023-07-10T12:40:38.909468900Z"
    }
   }
  },
  {
   "cell_type": "code",
   "execution_count": 10,
   "outputs": [],
   "source": [],
   "metadata": {
    "collapsed": false,
    "ExecuteTime": {
     "end_time": "2023-07-10T12:29:10.902751100Z",
     "start_time": "2023-07-10T12:29:10.875737700Z"
    }
   }
  },
  {
   "cell_type": "code",
   "execution_count": null,
   "outputs": [],
   "source": [],
   "metadata": {
    "collapsed": false
   }
  }
 ],
 "metadata": {
  "kernelspec": {
   "display_name": "Python 3",
   "language": "python",
   "name": "python3"
  },
  "language_info": {
   "codemirror_mode": {
    "name": "ipython",
    "version": 2
   },
   "file_extension": ".py",
   "mimetype": "text/x-python",
   "name": "python",
   "nbconvert_exporter": "python",
   "pygments_lexer": "ipython2",
   "version": "2.7.6"
  }
 },
 "nbformat": 4,
 "nbformat_minor": 0
}
