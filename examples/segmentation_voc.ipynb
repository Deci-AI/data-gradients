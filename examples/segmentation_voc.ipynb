{
 "cells": [
  {
   "cell_type": "code",
   "execution_count": 1,
   "metadata": {
    "collapsed": true,
    "pycharm": {
     "name": "#%%\n"
    },
    "ExecuteTime": {
     "end_time": "2023-07-17T14:00:21.562134200Z",
     "start_time": "2023-07-17T14:00:20.002136500Z"
    }
   },
   "outputs": [],
   "source": [
    "from data_gradients.managers.segmentation_manager import SegmentationAnalysisManager\n",
    "from data_gradients.datasets.segmentation.voc_segmentation_dataset import VOCSegmentationDataset"
   ]
  },
  {
   "cell_type": "code",
   "execution_count": null,
   "outputs": [
    {
     "name": "stdout",
     "output_type": "stream",
     "text": [
      "/Users/Louis.Dupont/PycharmProjects/data-gradients/examples\n",
      "Downloading http://host.robots.ox.ac.uk/pascal/VOC/voc2007/VOCtrainval_06-Nov-2007.tar to /Users/Louis.Dupont/PycharmProjects/data-gradients/examples/VOCtrainval_06-Nov-2007.tar\n"
     ]
    },
    {
     "name": "stderr",
     "output_type": "stream",
     "text": [
      " 30%|██▉       | 135921664/460032000 [01:19<04:03, 1329092.64it/s]"
     ]
    }
   ],
   "source": [
    "train_set = VOCSegmentationDataset(\n",
    "    root_dir=\"\",  # Download in working directory\n",
    "    year=\"2007\",\n",
    "    split=\"train\",\n",
    "    download=True,\n",
    "    verbose=False,\n",
    ")\n",
    "val_set = VOCSegmentationDataset(\n",
    "    root_dir=\"\",  # Download in working directory\n",
    "    year=\"2007\",\n",
    "    split=\"val\",\n",
    "    download=True,\n",
    "    verbose=False,\n",
    ")"
   ],
   "metadata": {
    "collapsed": false,
    "ExecuteTime": {
     "end_time": "2023-07-17T14:00:21.573136400Z",
     "start_time": "2023-07-17T14:00:21.558134100Z"
    },
    "pycharm": {
     "name": "#%%\n",
     "is_executing": true
    }
   }
  },
  {
   "cell_type": "code",
   "execution_count": null,
   "outputs": [],
   "source": [
    "manager = SegmentationAnalysisManager(\n",
    "    report_title=\"VOC Segmentation\",\n",
    "    train_data=train_set,\n",
    "    val_data=val_set,\n",
    "    class_names=VOCSegmentationDataset.CLASS_NAMES,\n",
    "    use_cache=True,\n",
    ")"
   ],
   "metadata": {
    "collapsed": false,
    "ExecuteTime": {
     "end_time": "2023-07-17T14:00:21.655132600Z",
     "start_time": "2023-07-17T14:00:21.576135400Z"
    },
    "pycharm": {
     "name": "#%%\n",
     "is_executing": true
    }
   }
  },
  {
   "cell_type": "code",
   "execution_count": null,
   "outputs": [],
   "source": [
    "manager.run()"
   ],
   "metadata": {
    "collapsed": false,
    "ExecuteTime": {
     "end_time": "2023-07-17T14:01:19.818132800Z",
     "start_time": "2023-07-17T14:00:24.304133700Z"
    },
    "pycharm": {
     "name": "#%%\n",
     "is_executing": true
    }
   }
  }
 ],
 "metadata": {
  "kernelspec": {
   "display_name": "Python 3",
   "language": "python",
   "name": "python3"
  },
  "language_info": {
   "codemirror_mode": {
    "name": "ipython",
    "version": 2
   },
   "file_extension": ".py",
   "mimetype": "text/x-python",
   "name": "python",
   "nbconvert_exporter": "python",
   "pygments_lexer": "ipython2",
   "version": "2.7.6"
  }
 },
 "nbformat": 4,
 "nbformat_minor": 0
}
