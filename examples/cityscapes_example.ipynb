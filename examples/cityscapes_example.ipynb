{
 "cells": [
  {
   "cell_type": "markdown",
   "source": [
    "# Cityscapes dataset analysis\n",
    "\n",
    "This notebook demonstrate how to apply Data Gradients to extract insights from Cityscapes dataset\n",
    "\n"
   ],
   "metadata": {
    "collapsed": false
   }
  },
  {
   "cell_type": "code",
   "execution_count": 1,
   "outputs": [],
   "source": [
    "from torchvision.datasets.cityscapes import Cityscapes\n",
    "from data_gradients.dataset_adapters import TorchvisionCityscapesSegmentationAdapter\n",
    "\n",
    "train_dataset = Cityscapes(\n",
    "    root=\"e:/cityscapes\",\n",
    "    split=\"train\",\n",
    "    target_type=\"semantic\",\n",
    ")\n",
    "val_dataset = Cityscapes(\n",
    "    root=\"e:/cityscapes\",\n",
    "    split=\"val\",\n",
    "    target_type=\"semantic\",\n",
    ")\n",
    "\n",
    "dataset = {\n",
    "    \"train\": TorchvisionCityscapesSegmentationAdapter(train_dataset),\n",
    "    \"val\": TorchvisionCityscapesSegmentationAdapter(val_dataset),\n",
    "}\n"
   ],
   "metadata": {
    "collapsed": false,
    "ExecuteTime": {
     "end_time": "2023-05-17T13:07:46.106505900Z",
     "start_time": "2023-05-17T13:07:44.441278Z"
    }
   }
  },
  {
   "cell_type": "code",
   "execution_count": 1,
   "outputs": [],
   "source": [],
   "metadata": {
    "collapsed": false,
    "ExecuteTime": {
     "end_time": "2023-05-17T13:07:46.121532Z",
     "start_time": "2023-05-17T13:07:46.106505900Z"
    }
   }
  },
  {
   "cell_type": "markdown",
   "source": [
    "# Single-line example"
   ],
   "metadata": {
    "collapsed": false
   }
  },
  {
   "cell_type": "code",
   "execution_count": 3,
   "outputs": [
    {
     "name": "stderr",
     "output_type": "stream",
     "text": [
      "Extracting features:   1%|          | 32/2975 [00:07<11:32,  4.25it/s]\n",
      "Extracting features:   6%|▋         | 32/500 [00:07<01:51,  4.21it/s]\n"
     ]
    },
    {
     "ename": "AttributeError",
     "evalue": "'FeaturesCollection' object has no attribute 'head'",
     "output_type": "error",
     "traceback": [
      "\u001B[1;31m---------------------------------------------------------------------------\u001B[0m",
      "\u001B[1;31mAttributeError\u001B[0m                            Traceback (most recent call last)",
      "Input \u001B[1;32mIn [3]\u001B[0m, in \u001B[0;36m<cell line: 6>\u001B[1;34m()\u001B[0m\n\u001B[0;32m      2\u001B[0m \u001B[38;5;28;01mfrom\u001B[39;00m \u001B[38;5;21;01mdata_gradients\u001B[39;00m\u001B[38;5;21;01m.\u001B[39;00m\u001B[38;5;21;01mmanagers\u001B[39;00m\u001B[38;5;21;01m.\u001B[39;00m\u001B[38;5;21;01msegmentation_manager\u001B[39;00m \u001B[38;5;28;01mimport\u001B[39;00m SegmentationAnalysisManager\n\u001B[0;32m      4\u001B[0m results \u001B[38;5;241m=\u001B[39m ImageAnalysisManager\u001B[38;5;241m.\u001B[39mextract_features_from_splits(dataset, max_samples\u001B[38;5;241m=\u001B[39m\u001B[38;5;241m32\u001B[39m)\n\u001B[1;32m----> 6\u001B[0m \u001B[43mresults\u001B[49m\u001B[38;5;241;43m.\u001B[39;49m\u001B[43mhead\u001B[49m()\n",
      "\u001B[1;31mAttributeError\u001B[0m: 'FeaturesCollection' object has no attribute 'head'"
     ]
    }
   ],
   "source": [
    "from data_gradients.managers.image_analysis_manager import ImageAnalysisManager\n",
    "from data_gradients.managers.segmentation_manager import SegmentationAnalysisManager\n",
    "\n",
    "results = ImageAnalysisManager.extract_features_from_splits(dataset, max_samples=32)\n",
    "\n",
    "results.head()"
   ],
   "metadata": {
    "collapsed": false,
    "ExecuteTime": {
     "end_time": "2023-05-17T13:08:57.355618600Z",
     "start_time": "2023-05-17T13:08:41.657415900Z"
    }
   }
  },
  {
   "cell_type": "code",
   "execution_count": 2,
   "outputs": [],
   "source": [],
   "metadata": {
    "collapsed": false,
    "ExecuteTime": {
     "end_time": "2023-05-17T13:08:04.631443100Z",
     "start_time": "2023-05-17T13:08:04.615354500Z"
    }
   }
  }
 ],
 "metadata": {
  "kernelspec": {
   "display_name": "Python 3",
   "language": "python",
   "name": "python3"
  },
  "language_info": {
   "codemirror_mode": {
    "name": "ipython",
    "version": 2
   },
   "file_extension": ".py",
   "mimetype": "text/x-python",
   "name": "python",
   "nbconvert_exporter": "python",
   "pygments_lexer": "ipython2",
   "version": "2.7.6"
  }
 },
 "nbformat": 4,
 "nbformat_minor": 0
}
