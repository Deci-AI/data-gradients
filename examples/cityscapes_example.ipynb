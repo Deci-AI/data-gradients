{
 "cells": [
  {
   "cell_type": "markdown",
   "source": [
    "# Cityscapes dataset analysis\n",
    "\n",
    "This notebook demonstrate how to apply Data Gradients to extract insights from Cityscapes dataset\n",
    "\n"
   ],
   "metadata": {
    "collapsed": false
   }
  },
  {
   "cell_type": "code",
   "execution_count": 1,
   "outputs": [],
   "source": [
    "from torchvision.datasets.cityscapes import Cityscapes\n",
    "from data_gradients.dataset_adapters import TorchvisionCityscapesSegmentationAdapter\n",
    "\n",
    "train_dataset = Cityscapes(\n",
    "    root=\"e:/cityscapes\",\n",
    "    split=\"train\",\n",
    "    target_type=\"semantic\",\n",
    ")\n",
    "val_dataset = Cityscapes(\n",
    "    root=\"e:/cityscapes\",\n",
    "    split=\"val\",\n",
    "    target_type=\"semantic\",\n",
    ")\n",
    "\n",
    "dataset = {\n",
    "    \"train\": TorchvisionCityscapesSegmentationAdapter(train_dataset),\n",
    "    \"val\": TorchvisionCityscapesSegmentationAdapter(val_dataset),\n",
    "}\n"
   ],
   "metadata": {
    "collapsed": false,
    "ExecuteTime": {
     "end_time": "2023-05-17T11:44:56.307334300Z",
     "start_time": "2023-05-17T11:44:52.666490300Z"
    }
   }
  },
  {
   "cell_type": "code",
   "execution_count": 1,
   "outputs": [],
   "source": [],
   "metadata": {
    "collapsed": false,
    "ExecuteTime": {
     "end_time": "2023-05-17T11:44:56.308337Z",
     "start_time": "2023-05-17T11:44:55.961339200Z"
    }
   }
  },
  {
   "cell_type": "markdown",
   "source": [
    "# Single-line example"
   ],
   "metadata": {
    "collapsed": false
   }
  },
  {
   "cell_type": "code",
   "execution_count": null,
   "outputs": [
    {
     "name": "stderr",
     "output_type": "stream",
     "text": [
      "Extracting features:  17%|█▋        | 503/2975 [16:39<1:13:14,  1.78s/it]"
     ]
    }
   ],
   "source": [
    "from data_gradients.managers.segmentation_manager import SegmentationAnalysisManager\n",
    "\n",
    "results = SegmentationAnalysisManager.extract_features_from_splits(dataset, num_workers=0)\n",
    "\n",
    "results"
   ],
   "metadata": {
    "collapsed": false,
    "is_executing": true,
    "ExecuteTime": {
     "start_time": "2023-05-17T11:44:55.977336700Z"
    }
   }
  },
  {
   "cell_type": "code",
   "execution_count": null,
   "outputs": [],
   "source": [],
   "metadata": {
    "collapsed": false,
    "is_executing": true
   }
  }
 ],
 "metadata": {
  "kernelspec": {
   "display_name": "Python 3",
   "language": "python",
   "name": "python3"
  },
  "language_info": {
   "codemirror_mode": {
    "name": "ipython",
    "version": 2
   },
   "file_extension": ".py",
   "mimetype": "text/x-python",
   "name": "python",
   "nbconvert_exporter": "python",
   "pygments_lexer": "ipython2",
   "version": "2.7.6"
  }
 },
 "nbformat": 4,
 "nbformat_minor": 0
}
